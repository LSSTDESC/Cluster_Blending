{
 "cells": [
  {
   "cell_type": "markdown",
   "metadata": {},
   "source": [
    "### Detect overlapping between two ellipses\n",
    "Last verified to run: 27 Oct 2021"
   ]
  },
  {
   "cell_type": "code",
   "execution_count": 1,
   "metadata": {},
   "outputs": [],
   "source": [
    "import numpy as np\n",
    "import matplotlib\n",
    "matplotlib.use('TkAgg')\n",
    "import matplotlib.pyplot as plt\n",
    "%matplotlib inline\n",
    "from matplotlib.patches import Ellipse"
   ]
  },
  {
   "cell_type": "markdown",
   "metadata": {},
   "source": [
    "#### The Ellipse Equation: (https://en.wikipedia.org/wiki/Ellipse#General_ellipse , but swapping B and C)\n",
    "\n",
    "$$\n",
    "A x^2 + B y^2 + C x y +  D x +  E y + F = 0\n",
    "$$\n",
    "where \n",
    "\n",
    "$\n",
    "\\begin{align}\n",
    "A & = a^2\\sin^2{\\theta} +  b^2\\cos^2{\\theta},  \\\\\n",
    "B & = a^2\\cos^2{\\theta} +  b^2\\sin^2{\\theta}, \\\\\n",
    "C & = 2(b^2 - a^2)\\sin{\\theta}\\cos{\\theta}, \\\\\n",
    "D & = -2Ax_0 - Cy_0,  \\\\\n",
    "E & = -C x_0 - 2B y_0,  \\\\\n",
    "F & = Ax_0^2 + C x_0 y_0 + By_0^2 - a^2 b^2. \n",
    "\\end{align}\n",
    "$\n",
    "\n",
    "$x_0, y_0$ are the coordinates for the ellipse center, $a$, $b$ the semi-major/minor axis and $\\theta$ the position angle (the angle between the major axis and ra for the extragalactic catalog, and between the major axis and CCD x axis for the object catalog).\n",
    "\n",
    "#### following the definitions of https://www.sciencedirect.com/science/article/abs/pii/S0167839617300791 (hereafter AC2017):  \n",
    "shrink the parameters CDE by half,\n",
    "\n",
    "$$ C = C / 2, \\quad D = D / 2, \\quad E = E / 2, $$\n",
    "\n",
    "and modify the Ellipse Equation:\n",
    "\n",
    "$$\n",
    "A x^2 + B y^2 + 2C x y + 2 D x + 2 E y + F = 0.\n",
    "$$"
   ]
  },
  {
   "cell_type": "code",
   "execution_count": 2,
   "metadata": {},
   "outputs": [],
   "source": [
    "def ellipse_equation(x, y, A, B, C, D, E, F):\n",
    "    return A*x**2 + B*y**2 + 2*C*x*y + 2*D*x + 2*E*y + F\n",
    "\n",
    "def ab2AB(a, b, theta, x0, y0):\n",
    "    ### a, b, in any length units; theta in degrees ###\n",
    "    sin = np.sin(np.radians(theta))\n",
    "    cos = np.cos(np.radians(theta))\n",
    "    \n",
    "    A = (a*sin)**2 + (b*cos)**2\n",
    "    B = (a*cos)**2 + (b*sin)**2\n",
    "    C = 2*(b**2 - a**2)*sin*cos\n",
    "    D = -2*A*x0 - C*y0\n",
    "    E = -C*x0 - 2*B*y0\n",
    "    F = A*x0**2 + C*x0*y0 + B*y0**2 - (a*b)**2\n",
    "    C, D, E = C/2, D/2, E/2\n",
    "    \n",
    "    return [A, B, C, D, E, F]"
   ]
  },
  {
   "cell_type": "markdown",
   "metadata": {},
   "source": [
    "#### The function is_overlapping provides a linear algorithm to detect overlapping ellipses, following AC2017."
   ]
  },
  {
   "cell_type": "code",
   "execution_count": 3,
   "metadata": {},
   "outputs": [],
   "source": [
    "def is_overlapping(p1, p2):\n",
    "    A1, B1, C1, D1, E1, F1 = p1\n",
    "    A2, B2, C2, D2, E2, F2 = p2\n",
    "    \n",
    "    M1 = [[A1, C1, D1], [C1, B1, E1], [D1, E1, F1]]\n",
    "    M2 = [[A2, C2, D2], [C2, B2, E2], [D2, E2, F2]]\n",
    "    \n",
    "    l0 = np.linalg.det(M2)\n",
    "    l1 = (np.linalg.det([[A1,C2,D2],[C1,B2,E2],[D1,E2,F2]]) +\n",
    "            np.linalg.det([[A2,C1,D2],[C2,B1,E2],[D2,E1,F2]]) +\n",
    "            np.linalg.det([[A2,C2,D1],[C2,B2,E1],[D2,E2,F1]])) / 3\n",
    "    l2 = (np.linalg.det([[A2,C1,D1],[C2,B1,E1],[D2,E1,F1]]) +\n",
    "            np.linalg.det([[A1,C2,D1],[C1,B2,E1],[D1,E2,F1]]) +\n",
    "            np.linalg.det([[A1,C1,D2],[C1,B1,E2],[D1,E1,F2]])) / 3\n",
    "    l3 = np.linalg.det(M1)\n",
    "\n",
    "    delta1 = np.linalg.det([[l3, l2],[l2, l1]])\n",
    "    delta2 = np.linalg.det([[l3, l1],[l2, l0]])\n",
    "    delta3 = np.linalg.det([[l2, l1],[l1, l0]])\n",
    "    discriminant_P = np.linalg.det([[2*delta1, delta2], [delta2, 2*delta3]])\n",
    "    \n",
    "    if (discriminant_P >=0) and ((l1>0) or (l2>0)):\n",
    "        return False  ## not over-lapping\n",
    "    else:\n",
    "        return True"
   ]
  },
  {
   "cell_type": "code",
   "execution_count": 13,
   "metadata": {
    "scrolled": true
   },
   "outputs": [
    {
     "data": {
      "image/png": "[encoded data removed]",
      "text/plain": [
       "<Figure size 288x288 with 1 Axes>"
      ]
     },
     "metadata": {
      "needs_background": "light"
     },
     "output_type": "display_data"
    }
   ],
   "source": [
    "x1, y1 = np.random.uniform(-1,1,2)  ## center of ellipse 1\n",
    "a1, b1 = np.random.uniform(0,1,2)\n",
    "theta1 = np.random.uniform(0, 180)  ## in degrees\n",
    "if b1 > a1:\n",
    "    a1, b1 = b1, a1\n",
    "\n",
    "x2, y2 = np.random.uniform(-1,1,2)  ## center of ellipse 2\n",
    "a2, b2 = np.random.uniform(0,1,2)\n",
    "theta2 = np.random.uniform(0, 180)  ## in degrees\n",
    "if b2 > a2:\n",
    "    a2, b2 = b2, a2\n",
    "\n",
    "p1 = ab2AB(a1, b1, theta1, x1, y1)\n",
    "p2 = ab2AB(a2, b2, theta2, x2, y2)\n",
    "\n",
    "fig = plt.figure(figsize=(4,4))\n",
    "ax1 = fig.add_subplot(111, xlim=(-2,2), ylim=(-2,2))\n",
    "\n",
    "ellipse1 = Ellipse((x1,y1), width=2*a1, height=2*b1, angle=theta1, facecolor='r', edgecolor='k', alpha=0.5, linewidth=1)\n",
    "ellipse2 = Ellipse((x2,y2), width=2*a2, height=2*b2, angle=theta2, facecolor='b', edgecolor='k', alpha=0.5, linewidth=1)\n",
    "ax1.add_artist(ellipse1)\n",
    "ax1.add_artist(ellipse2)\n",
    "\n",
    "if is_overlapping(p1, p2):\n",
    "    ax1.set_title('ellipses overlapping')\n",
    "else:\n",
    "    ax1.set_title('not overlapping')\n",
    "\n",
    "plt.tight_layout()"
   ]
  },
  {
   "cell_type": "code",
   "execution_count": null,
   "metadata": {},
   "outputs": [],
   "source": []
  }
 ],
 "metadata": {
  "kernelspec": {
   "display_name": "desc-stack",
   "language": "python",
   "name": "desc-stack"
  },
  "language_info": {
   "codemirror_mode": {
    "name": "ipython",
    "version": 3
   },
   "file_extension": ".py",
   "mimetype": "text/x-python",
   "name": "python",
   "nbconvert_exporter": "python",
   "pygments_lexer": "ipython3",
   "version": "3.7.2"
  }
 },
 "nbformat": 4,
 "nbformat_minor": 4
}
