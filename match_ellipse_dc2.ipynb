{
 "cells": [
  {
   "cell_type": "markdown",
   "metadata": {},
   "source": [
    "### Detect overlapping between sources in cosmoDC2 and the object catalog"
   ]
  },
  {
   "cell_type": "code",
   "execution_count": 1,
   "metadata": {},
   "outputs": [],
   "source": [
    "import numpy as np\n",
    "import matplotlib\n",
    "matplotlib.use('TkAgg')\n",
    "import matplotlib.pyplot as plt\n",
    "%matplotlib inline\n",
    "from matplotlib.patches import Ellipse\n",
    "from astropy.table import Table"
   ]
  },
  {
   "cell_type": "markdown",
   "metadata": {},
   "source": [
    "#### The Ellipse Equation: (https://en.wikipedia.org/wiki/Ellipse#General_ellipse , but swapping B and C)\n",
    "\n",
    "$$\n",
    "A x^2 + B y^2 + C x y +  D x +  E y + F = 0\n",
    "$$\n",
    "where \n",
    "\n",
    "$\n",
    "\\begin{align}\n",
    "A & = a^2\\sin^2{\\theta} +  b^2\\cos^2{\\theta},  \\\\\n",
    "B & = a^2\\cos^2{\\theta} +  b^2\\sin^2{\\theta}, \\\\\n",
    "C & = 2(b^2 - a^2)\\sin{\\theta}\\cos{\\theta}, \\\\\n",
    "D & = -2Ax_0 - Cy_0,  \\\\\n",
    "E & = -C x_0 - 2B y_0,  \\\\\n",
    "F & = Ax_0^2 + C x_0 y_0 + By_0^2 - a^2 b^2. \n",
    "\\end{align}\n",
    "$\n",
    "\n",
    "$x_0, y_0$ are the coordinates for the ellipse center, $a$, $b$ the semi-major/minor axis and $\\theta$ the position angle (the angle between the major axis and ra for the extragalactic catalog, and between the major axis and CCD x axis for the object catalog).\n",
    "\n",
    "#### following the definitions of https://www.sciencedirect.com/science/article/abs/pii/S0167839617300791 (hereafter AC2017):  \n",
    "shrink the parameters CDE by half,\n",
    "\n",
    "$$ C = C / 2, \\quad D = D / 2, \\quad E = E / 2, $$\n",
    "\n",
    "and modify the Ellipse Equation:\n",
    "\n",
    "$$\n",
    "A x^2 + B y^2 + 2C x y + 2 D x + 2 E y + F = 0.\n",
    "$$\n",
    "\n",
    "\n"
   ]
  },
  {
   "cell_type": "code",
   "execution_count": 2,
   "metadata": {},
   "outputs": [],
   "source": [
    "def ellipse_equation(x, y, A, B, C, D, E, F):\n",
    "    return A*x**2 + B*y**2 + 2*C*x*y + 2*D*x + 2*E*y + F\n",
    "\n",
    "def is_overlapping(p1, p2):\n",
    "    A1, B1, C1, D1, E1, F1 = p1\n",
    "    A2, B2, C2, D2, E2, F2 = p2\n",
    "    \n",
    "    M1 = [[A1, C1, D1], [C1, B1, E1], [D1, E1, F1]]\n",
    "    M2 = [[A2, C2, D2], [C2, B2, E2], [D2, E2, F2]]\n",
    "    \n",
    "    l0 = np.linalg.det(M2)\n",
    "    l1 = (np.linalg.det([[A1,C2,D2],[C1,B2,E2],[D1,E2,F2]]) +\n",
    "            np.linalg.det([[A2,C1,D2],[C2,B1,E2],[D2,E1,F2]]) +\n",
    "            np.linalg.det([[A2,C2,D1],[C2,B2,E1],[D2,E2,F1]])) / 3\n",
    "    l2 = (np.linalg.det([[A2,C1,D1],[C2,B1,E1],[D2,E1,F1]]) +\n",
    "            np.linalg.det([[A1,C2,D1],[C1,B2,E1],[D1,E2,F1]]) +\n",
    "            np.linalg.det([[A1,C1,D2],[C1,B1,E2],[D1,E1,F2]])) / 3\n",
    "    l3 = np.linalg.det(M1)\n",
    "\n",
    "    delta1 = np.linalg.det([[l3, l2],[l2, l1]])\n",
    "    delta2 = np.linalg.det([[l3, l1],[l2, l0]])\n",
    "    delta3 = np.linalg.det([[l2, l1],[l1, l0]])\n",
    "    discriminant_P = np.linalg.det([[2*delta1, delta2], [delta2, 2*delta3]])\n",
    "    \n",
    "    if (discriminant_P >=0) and ((l1>0) or (l2>0)):\n",
    "        return False  ## not over-lapping\n",
    "    else:\n",
    "        return True"
   ]
  },
  {
   "cell_type": "markdown",
   "metadata": {},
   "source": [
    "### To get the Ellipse parameters ABCDEF from the Extragalactic Catalog (a small patch in cosmoDC2):\n",
    "$\n",
    "a = size, \\quad b = size\\_minor, \\quad \\theta = position\\_angle.\n",
    "$"
   ]
  },
  {
   "cell_type": "code",
   "execution_count": 4,
   "metadata": {},
   "outputs": [
    {
     "name": "stdout",
     "output_type": "stream",
     "text": [
      "<TableColumns names=('id','ra','dec','mag_i','mag_r','redshift','a_true','b_true','theta','e1_lensed','e2_lensed','star')>\n"
     ]
    }
   ],
   "source": [
    "truth = Table.read('cluster_truth.fits', format='fits')\n",
    "print(truth.columns)"
   ]
  },
  {
   "cell_type": "code",
   "execution_count": 8,
   "metadata": {},
   "outputs": [
    {
     "name": "stdout",
     "output_type": "stream",
     "text": [
      "4430 4430\n"
     ]
    }
   ],
   "source": [
    "x0 = truth['ra']\n",
    "y0 = truth['dec']\n",
    "a = truth['a_true'] / 3600.  ## arcsec to degree\n",
    "b = truth['b_true'] / 3600.  ## arcsec to degree\n",
    "theta = np.radians(truth['theta'])\n",
    "\n",
    "sin = np.sin(theta)\n",
    "cos = np.cos(theta)\n",
    "\n",
    "truth['A'] = (a*sin)**2 + (b*cos)**2\n",
    "truth['B'] = (a*cos)**2 + (b*sin)**2\n",
    "\n",
    "C = 2*(b**2 - a**2)*sin*cos\n",
    "D = -2*truth['A']*x0 - C*y0\n",
    "E = -C*x0 - 2*truth['B']*y0\n",
    "\n",
    "truth['F'] = truth['A']*x0**2 + C*x0*y0 + truth['B']*y0**2 - (a*b)**2\n",
    "truth['C'], truth['D'], truth['E'] = C/2, D/2, E/2\n",
    "\n",
    "print(len(truth), len(x0))"
   ]
  },
  {
   "cell_type": "markdown",
   "metadata": {},
   "source": [
    "#### plot some sources (enlarge the size by 100 for visulizaiton)"
   ]
  },
  {
   "cell_type": "code",
   "execution_count": 9,
   "metadata": {
    "scrolled": false
   },
   "outputs": [
    {
     "data": {
      "image/png": "[encoded data removed]",
      "text/plain": [
       "<Figure size 432x432 with 1 Axes>"
      ]
     },
     "metadata": {
      "needs_background": "light"
     },
     "output_type": "display_data"
    }
   ],
   "source": [
    "fig = plt.figure(figsize=(6,6))\n",
    "ax = fig.add_subplot(111, xlim=(truth['ra'].min(), truth['ra'].max()), \n",
    "                     ylim=(truth['dec'].min(),truth['dec'].max()))\n",
    "ax.set_xlabel('Ra', fontsize=14)\n",
    "ax.set_ylabel('Dec', fontsize=14)\n",
    "\n",
    "N = len(truth)\n",
    "for i in np.random.randint(0, high=N, size=10):\n",
    "    ellipse = Ellipse((truth['ra'][i],truth['dec'][i]), \n",
    "                      width=100*2*truth['a_true'][i]/3600., height=100*2*truth['b_true'][i]/3600., \n",
    "                      angle=truth['theta'][i], edgecolor='k', alpha=0.5, linewidth=1)\n",
    "    ax.add_artist(ellipse)"
   ]
  },
  {
   "cell_type": "markdown",
   "metadata": {},
   "source": [
    "### Now the object catalog"
   ]
  },
  {
   "cell_type": "code",
   "execution_count": 10,
   "metadata": {},
   "outputs": [
    {
     "name": "stdout",
     "output_type": "stream",
     "text": [
      "<TableColumns names=('photoz_mode','mag_r_cModel','mag_i_cModel','blendedness','dec','ra','Iyy_pixel','x','y','Ixx_pixel','Ixy_pixel')>\n"
     ]
    }
   ],
   "source": [
    "obj = Table.read('cluster_obj.fits', format='fits')\n",
    "print(obj.columns)"
   ]
  },
  {
   "cell_type": "markdown",
   "metadata": {},
   "source": [
    "#### verify the pixel scale (it's 0.2''/pix from https://arxiv.org/pdf/2010.05926.pdf)"
   ]
  },
  {
   "cell_type": "code",
   "execution_count": 11,
   "metadata": {},
   "outputs": [
    {
     "name": "stdout",
     "output_type": "stream",
     "text": [
      "pixel scale caculated from pair sources: (1833, 1951) / 2034\n",
      "pixel scale: 0.19998725234600392 arcsec/pix\n"
     ]
    }
   ],
   "source": [
    "N = len(obj)\n",
    "i = np.random.randint(0, high=N)\n",
    "j = np.random.randint(0, high=N)\n",
    "print('pixel scale caculated from pair sources:', (i, j), '/', N)\n",
    "\n",
    "x1, y1 = obj['x'][i], obj['y'][i]\n",
    "x2, y2 = obj['x'][j], obj['y'][j]\n",
    "dist_pixel = np.sqrt( (x1-x2)**2 + (y1-y2)**2 )\n",
    "\n",
    "ra1, dec1 = np.radians(obj['ra'][i]), np.radians(obj['dec'][i])\n",
    "ra2, dec2 = np.radians(obj['ra'][j]), np.radians(obj['dec'][j])\n",
    "\n",
    "cos_dist = np.sin(dec1)*np.sin(dec2) + np.cos(dec1)*np.cos(dec2)*np.cos(ra1-ra2)\n",
    "dist_rad = np.arccos(cos_dist)\n",
    "dist_arcsec = np.degrees(dist_rad)*3600\n",
    "\n",
    "pixel_ratio = dist_arcsec / dist_pixel\n",
    "print('pixel scale:', pixel_ratio, 'arcsec/pix')"
   ]
  },
  {
   "cell_type": "markdown",
   "metadata": {},
   "source": [
    "#### To get the Ellipse parameters ABCDEF from the Object Catalog:\n",
    "based on my calculation, for perfect ellipses with constant flux,\n",
    "$$ \n",
    "\\begin{align}\n",
    "I_{xx} & = \\frac{\\pi}{4}ab \\left( a^2\\cos^2{\\theta} + b^2\\sin^2{\\theta} \\right), \\\\\n",
    "I_{yy} & = \\frac{\\pi}{4}ab \\left( a^2\\sin^2{\\theta} + b^2\\cos^2{\\theta} \\right), \\\\ \n",
    "I_{xy} & = \\frac{\\pi}{4}ab \\left( a^2 - b^2 \\right) \\cos{\\theta}\\sin{\\theta}.\n",
    "\\end{align}\n",
    "$$\n",
    "therefore,\n",
    "$$ \n",
    "\\begin{align}\n",
    "I_{xx}I_{yy} - I^2_{xy} \n",
    "    & = \\frac{\\pi^2}{16}a^2 b^2 \n",
    "    \\left[ \\left( a^2\\cos^2{\\theta} + b^2\\sin^2{\\theta} \\right) \n",
    "    \\left( a^2\\sin^2{\\theta} + b^2\\cos^2{\\theta} \\right) -\n",
    "    \\left( a^2 - b^2 \\right)^2 \\cos^2{\\theta}\\sin^2{\\theta} \\right] \\\\\n",
    "    & = \\frac{\\pi^2}{16}a^4 b^4\n",
    "\\end{align}\n",
    "$$\n",
    "or\n",
    "\n",
    "$ \\pi ab = 2\\sqrt{\\pi} \\left( I_{xx}I_{yy} - I^2_{xy} \\right)^{1/4}. $\n",
    "\n",
    "Furthermore, \n",
    "\n",
    "$\n",
    "\\begin{align}\n",
    "A & = a^2\\sin^2{\\theta} +  b^2\\cos^2{\\theta} = \\frac{4I_{yy}}{\\pi ab},  \\\\\n",
    "B & = a^2\\cos^2{\\theta} +  b^2\\sin^2{\\theta} = \\frac{4I_{xx}}{\\pi ab}, \\\\\n",
    "C & = 2(b^2 - a^2)\\sin{\\theta}\\cos{\\theta} = \\frac{-8I_{xy}}{\\pi ab}, \\\\ \n",
    "\\end{align}\n",
    "$\n",
    "\n",
    "and D, E, F follows."
   ]
  },
  {
   "cell_type": "code",
   "execution_count": 12,
   "metadata": {},
   "outputs": [],
   "source": [
    "x0 = obj['ra']\n",
    "y0 = obj['dec']\n",
    "\n",
    "Ixx = obj['Ixx_pixel'] * (0.2 / 3600.)**4    ## in degrees\n",
    "Iyy = obj['Iyy_pixel'] * (0.2 / 3600.)**4    ## in degrees\n",
    "Ixy = obj['Ixy_pixel'] * (0.2 / 3600.)**4    ## in degrees\n",
    "\n",
    "pi_ab = 2 * np.sqrt(np.pi) * np.power(Ixx*Iyy - Ixy**2, 1/4)\n",
    "\n",
    "obj['A'] = 4*Iyy/pi_ab\n",
    "obj['B'] = 4*Ixx/pi_ab\n",
    "obj['C'] = -8*Ixy/pi_ab\n",
    "\n",
    "D = -2*obj['A']*x0 - obj['C']*y0\n",
    "E = -obj['C']*x0 - 2*obj['B']*y0\n",
    "\n",
    "obj['F'] = obj['A']*x0**2 + obj['C']*x0*y0 + obj['B']*y0**2 - (pi_ab/np.pi)**2\n",
    "obj['C'], obj['D'], obj['E'] = obj['C']/2, D/2, E/2"
   ]
  },
  {
   "cell_type": "markdown",
   "metadata": {},
   "source": [
    "#### plot some sources (enlarge the size by unknow ratio for visulizaiton)"
   ]
  },
  {
   "cell_type": "code",
   "execution_count": 13,
   "metadata": {},
   "outputs": [
    {
     "data": {
      "image/png": "[encoded data removed]",
      "text/plain": [
       "<Figure size 432x432 with 1 Axes>"
      ]
     },
     "metadata": {
      "needs_background": "light"
     },
     "output_type": "display_data"
    }
   ],
   "source": [
    "fig = plt.figure(figsize=(6,6))\n",
    "\n",
    "ax = fig.add_subplot(111)\n",
    "N = len(obj)\n",
    "\n",
    "for i in np.random.randint(0, high=N, size=10):\n",
    "\n",
    "    rough_size = 100 * np.sqrt( pi_ab[i]/np.pi )\n",
    "    x = np.linspace(obj['ra'][i]-rough_size, obj['ra'][i]+rough_size, 100)\n",
    "    y = np.linspace(obj['dec'][i]-rough_size, obj['dec'][i]+rough_size, 100)\n",
    "    x, y = np.meshgrid(x,y)\n",
    "    z = ellipse_equation(x, y, obj['A'][i], obj['B'][i], obj['C'][i], obj['D'][i], obj['E'][i], obj['F'][i])\n",
    "    \n",
    "    #ax.contour(x, y, z, [0])      ## the true size\n",
    "    ax.contour(x, y, z, [1e-13])"
   ]
  },
  {
   "cell_type": "markdown",
   "metadata": {},
   "source": [
    "### Match the two catalogs with KD tree"
   ]
  },
  {
   "cell_type": "code",
   "execution_count": null,
   "metadata": {},
   "outputs": [],
   "source": []
  }
 ],
 "metadata": {
  "kernelspec": {
   "display_name": "Python 3 (ipykernel)",
   "language": "python",
   "name": "python3"
  },
  "language_info": {
   "codemirror_mode": {
    "name": "ipython",
    "version": 3
   },
   "file_extension": ".py",
   "mimetype": "text/x-python",
   "name": "python",
   "nbconvert_exporter": "python",
   "pygments_lexer": "ipython3",
   "version": "3.9.7"
  }
 },
 "nbformat": 4,
 "nbformat_minor": 2
}
