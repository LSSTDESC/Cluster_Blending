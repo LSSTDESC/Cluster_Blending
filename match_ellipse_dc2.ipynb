{
 "cells": [
  {
   "cell_type": "markdown",
   "metadata": {},
   "source": [
    "### Detect overlapping between two ellipses"
   ]
  },
  {
   "cell_type": "code",
   "execution_count": 1,
   "metadata": {},
   "outputs": [],
   "source": [
    "import numpy as np\n",
    "import matplotlib\n",
    "matplotlib.use('TkAgg')\n",
    "import matplotlib.pyplot as plt\n",
    "%matplotlib inline\n",
    "from matplotlib.patches import Ellipse"
   ]
  },
  {
   "cell_type": "markdown",
   "metadata": {},
   "source": [
    "#### The Ellipse Equation: (https://en.wikipedia.org/wiki/Ellipse#General_ellipse , but swapping B and C)\n",
    "\n",
    "$$\n",
    "A x^2 + B y^2 + C x y +  D x +  E y + F = 0\n",
    "$$\n",
    "where \n",
    "\n",
    "$\n",
    "\\begin{align}\n",
    "A & = a^2\\sin^2{\\theta} +  b^2\\cos^2{\\theta},  \\\\\n",
    "B & = a^2\\cos^2{\\theta} +  b^2\\sin^2{\\theta}, \\\\\n",
    "C & = 2(b^2 - a^2)\\sin{\\theta}\\cos{\\theta}, \\\\\n",
    "D & = -2Ax_0 - Cy_0,  \\\\\n",
    "E & = -C x_0 - 2B y_0,  \\\\\n",
    "F & = Ax_0^2 + C x_0 y_0 + By_0^2 - a^2 b^2. \n",
    "\\end{align}\n",
    "$\n",
    "\n",
    "#### following the definitions of https://www.sciencedirect.com/science/article/abs/pii/S0167839617300791 (hereafter AC2017):  \n",
    "shrink the parameters CDE by half,\n",
    "\n",
    "$$ C = C / 2, \\quad D = D / 2, \\quad E = E / 2, $$\n",
    "\n",
    "and modify the Ellipse Equation:\n",
    "\n",
    "$$\n",
    "A x^2 + B y^2 + 2C x y + 2 D x + 2 E y + F = 0.\n",
    "$$\n",
    "\n",
    "#### To get the Ellipse parameters ABCDEF from the Extragalactic Catalog:\n",
    "\n",
    "#### To get the Ellipse parameters ABCDEF from the Object Catalog:\n",
    "based on my calculation, for perfect ellipses,\n",
    "$$ \n",
    "\\begin{align}\n",
    "I_{xx} & = \\frac{\\pi}{4}ab \\left( a^2\\cos^2{\\theta} + b^2\\sin^2{\\theta} \\right), \\\\\n",
    "I_{yy} & = \\frac{\\pi}{4}ab \\left( a^2\\sin^2{\\theta} + b^2\\cos^2{\\theta} \\right), \\\\ \n",
    "I_{xy} & = \\frac{\\pi}{4}ab \\left( a^2 - b^2 \\right) \\cos{\\theta}\\sin{\\theta}.\n",
    "\\end{align}\n",
    "$$\n",
    "therefore,\n",
    "$$ \n",
    "\\begin{align}\n",
    "I_{xx}I_{yy} - I^2_{xy} \n",
    "    & = \\frac{\\pi^2}{16}a^2 b^2 \n",
    "    \\left[ \\left( a^2\\cos^2{\\theta} + b^2\\sin^2{\\theta} \\right) \n",
    "    \\left( a^2\\sin^2{\\theta} + b^2\\cos^2{\\theta} \\right) -\n",
    "    \\left( a^2 - b^2 \\right)^2 \\cos^2{\\theta}\\sin^2{\\theta} \\right] \\\\\n",
    "    & = \\frac{\\pi^2}{16}a^4 b^4\n",
    "\\end{align}\n",
    "$$\n",
    "or\n",
    "\n",
    "$ \\pi ab = 2\\sqrt{\\pi} \\left( I_{xx}I_{yy} - I^2_{xy} \\right)^{1/4}. $\n",
    "\n",
    "Furthermore, \n",
    "\n",
    "$\n",
    "\\begin{align}\n",
    "A & = a^2\\sin^2{\\theta} +  b^2\\cos^2{\\theta} = \\frac{4I_{yy}}{\\pi ab},  \\\\\n",
    "B & = a^2\\cos^2{\\theta} +  b^2\\sin^2{\\theta} = \\frac{4I_{xx}}{\\pi ab}, \\\\\n",
    "C & = 2(b^2 - a^2)\\sin{\\theta}\\cos{\\theta} = \\frac{-8I_{xy}}{\\pi ab}, \\\\ \n",
    "\\end{align}\n",
    "$\n",
    "\n",
    "and D, E, F follows."
   ]
  },
  {
   "cell_type": "code",
   "execution_count": 8,
   "metadata": {},
   "outputs": [],
   "source": [
    "def ellipse_equation(x, y, A, B, C, D, E, F):\n",
    "    return A*x**2 + B*y**2 + 2*C*x*y + 2*D*x + 2*E*y + F\n",
    "\n",
    "def is_overlapping(p1, p2):\n",
    "    A1, B1, C1, D1, E1, F1 = p1\n",
    "    A2, B2, C2, D2, E2, F2 = p2\n",
    "    \n",
    "    M1 = [[A1, C1, D1], [C1, B1, E1], [D1, E1, F1]]\n",
    "    M2 = [[A2, C2, D2], [C2, B2, E2], [D2, E2, F2]]\n",
    "    \n",
    "    l0 = np.linalg.det(M2)\n",
    "    l1 = (np.linalg.det([[A1,C2,D2],[C1,B2,E2],[D1,E2,F2]]) +\n",
    "            np.linalg.det([[A2,C1,D2],[C2,B1,E2],[D2,E1,F2]]) +\n",
    "            np.linalg.det([[A2,C2,D1],[C2,B2,E1],[D2,E2,F1]])) / 3\n",
    "    l2 = (np.linalg.det([[A2,C1,D1],[C2,B1,E1],[D2,E1,F1]]) +\n",
    "            np.linalg.det([[A1,C2,D1],[C1,B2,E1],[D1,E2,F1]]) +\n",
    "            np.linalg.det([[A1,C1,D2],[C1,B1,E2],[D1,E1,F2]])) / 3\n",
    "    l3 = np.linalg.det(M1)\n",
    "\n",
    "    delta1 = np.linalg.det([[l3, l2],[l2, l1]])\n",
    "    delta2 = np.linalg.det([[l3, l1],[l2, l0]])\n",
    "    delta3 = np.linalg.det([[l2, l1],[l1, l0]])\n",
    "    discriminant_P = np.linalg.det([[2*delta1, delta2], [delta2, 2*delta3]])\n",
    "    \n",
    "    if (discriminant_P >=0) and ((l1>0) or (l2>0)):\n",
    "        return False  ## not over-lapping\n",
    "    else:\n",
    "        return True"
   ]
  },
  {
   "cell_type": "code",
   "execution_count": 14,
   "metadata": {
    "scrolled": true
   },
   "outputs": [
    {
     "data": {
      "image/png": "[encoded data removed]",
      "text/plain": [
       "<Figure size 288x288 with 1 Axes>"
      ]
     },
     "metadata": {
      "needs_background": "light"
     },
     "output_type": "display_data"
    }
   ],
   "source": [
    "x1, y1 = np.random.uniform(-1,1,2)  ## center of ellipse 1\n",
    "a1, b1 = np.random.uniform(0,1,2)\n",
    "theta1 = np.random.uniform(0, np.pi)\n",
    "if b1 > a1:\n",
    "    a1, b1 = b1, a1\n",
    "\n",
    "x2, y2 = np.random.uniform(-1,1,2)  ## center of ellipse 2\n",
    "a2, b2 = np.random.uniform(0,1,2)\n",
    "theta2 = np.random.uniform(0, np.pi)\n",
    "if b2 > a2:\n",
    "    a2, b2 = b2, a2\n",
    "\n",
    "sin1 = np.sin(theta1)\n",
    "sin2 = np.sin(theta2)\n",
    "\n",
    "cos1 = np.cos(theta1)\n",
    "cos2 = np.cos(theta2)\n",
    "\n",
    "A1 = (a1*sin1)**2 + (b1*cos1)**2\n",
    "A2 = (a2*sin2)**2 + (b2*cos2)**2\n",
    "\n",
    "B1 = (a1*cos1)**2 + (b1*sin1)**2\n",
    "B2 = (a2*cos2)**2 + (b2*sin2)**2\n",
    "\n",
    "C1 = 2*(b1**2 - a1**2)*sin1*cos1\n",
    "C2 = 2*(b2**2 - a2**2)*sin2*cos2\n",
    "\n",
    "D1 = -2*A1*x1 - C1*y1\n",
    "D2 = -2*A2*x2 - C2*y2\n",
    "\n",
    "E1 = -C1*x1 - 2*B1*y1\n",
    "E2 = -C2*x2 - 2*B2*y2\n",
    "\n",
    "F1 = A1*x1**2 + C1*x1*y1 + B1*y1**2 - (a1*b1)**2\n",
    "F2 = A2*x2**2 + C2*x2*y2 + B2*y2**2 - (a2*b2)**2\n",
    "\n",
    "C1, D1, E1 = C1/2, D1/2, E1/2\n",
    "C2, D2, E2 = C2/2, D2/2, E2/2\n",
    "\n",
    "p1 = [A1, B1, C1, D1, E1, F1]\n",
    "p2 = [A2, B2, C2, D2, E2, F2]\n",
    "\n",
    "fig = plt.figure(figsize=(4,4))\n",
    "ax1 = fig.add_subplot(111, xlim=(-2,2), ylim=(-2,2))\n",
    "\n",
    "ellipse1 = Ellipse((x1,y1), width=2*a1, height=2*b1, angle=np.degrees(theta1), facecolor='r', edgecolor='k', alpha=0.5, linewidth=1)\n",
    "ellipse2 = Ellipse((x2,y2), width=2*a2, height=2*b2, angle=np.degrees(theta2), facecolor='b', edgecolor='k', alpha=0.5, linewidth=1)\n",
    "ax1.add_artist(ellipse1)\n",
    "ax1.add_artist(ellipse2)\n",
    "\n",
    "if is_overlapping(p1, p2):\n",
    "    ax1.set_title('ellipses overlapping')\n",
    "else:\n",
    "    ax1.set_title('not overlapping')"
   ]
  },
  {
   "cell_type": "code",
   "execution_count": 17,
   "metadata": {},
   "outputs": [
    {
     "data": {
      "text/plain": [
       "[<matplotlib.lines.Line2D at 0x7f81a0771cd0>]"
      ]
     },
     "execution_count": 17,
     "metadata": {},
     "output_type": "execute_result"
    },
    {
     "data": {
      "image/png": "[encoded data removed]",
      "text/plain": [
       "<Figure size 432x288 with 1 Axes>"
      ]
     },
     "metadata": {
      "needs_background": "light"
     },
     "output_type": "display_data"
    }
   ],
   "source": [
    "ratio = np.linspace(-10, 10 ,100)\n",
    "theta = np.arctan(ratio)/2\n",
    "\n",
    "for i, t in enumerate(theta):\n",
    "    if t < 0:\n",
    "        theta[i] += np.pi\n",
    "\n",
    "plt.plot(ratio, theta)"
   ]
  },
  {
   "cell_type": "code",
   "execution_count": null,
   "metadata": {},
   "outputs": [],
   "source": []
  }
 ],
 "metadata": {
  "kernelspec": {
   "display_name": "Python 3 (ipykernel)",
   "language": "python",
   "name": "python3"
  },
  "language_info": {
   "codemirror_mode": {
    "name": "ipython",
    "version": 3
   },
   "file_extension": ".py",
   "mimetype": "text/x-python",
   "name": "python",
   "nbconvert_exporter": "python",
   "pygments_lexer": "ipython3",
   "version": "3.9.7"
  }
 },
 "nbformat": 4,
 "nbformat_minor": 2
}
